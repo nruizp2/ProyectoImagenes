{
  "nbformat": 4,
  "nbformat_minor": 0,
  "metadata": {
    "colab": {
      "provenance": [],
      "gpuType": "T4"
    },
    "kernelspec": {
      "name": "python3",
      "display_name": "Python 3"
    },
    "language_info": {
      "name": "python"
    },
    "accelerator": "GPU"
  },
  "cells": [
    {
      "cell_type": "code",
      "source": [
        "import tensorflow as tf\n",
        "from tensorflow.keras import layers, models\n",
        "import json\n",
        "import os\n",
        "import shutil\n",
        "from tensorflow.keras.optimizers import Adam\n",
        "import pandas as pd\n",
        "import numpy as np\n",
        "import random\n"
      ],
      "metadata": {
        "id": "hjVRWJHk6D1W"
      },
      "execution_count": 1,
      "outputs": []
    },
    {
      "cell_type": "code",
      "source": [
        "with open('./kaggle.json') as f:\n",
        "    kaggle_credentials = json.load(f)\n",
        "\n",
        "    os.environ['KAGGLE_USERNAME'] = kaggle_credentials['username']\n",
        "    os.environ['KAGGLE_KEY'] = kaggle_credentials['key']\n",
        "\n",
        "    from kaggle.api.kaggle_api_extended import KaggleApi\n",
        "    api = KaggleApi()\n",
        "    api.authenticate()\n",
        "    api.dataset_download_files(\"hitman1309/isic-2018-task-3\", unzip=True)"
      ],
      "metadata": {
        "colab": {
          "base_uri": "https://localhost:8080/"
        },
        "id": "V_OsNG6UWAyG",
        "outputId": "feb5912e-d010-48e6-8bc1-c82c1ae8fcac"
      },
      "execution_count": 4,
      "outputs": [
        {
          "output_type": "stream",
          "name": "stdout",
          "text": [
            "Dataset URL: https://www.kaggle.com/datasets/hitman1309/isic-2018-task-3\n"
          ]
        }
      ]
    },
    {
      "cell_type": "code",
      "source": [
        "def create_folder(name,csv_path, images_folder):\n",
        "  os.mkdir(name)\n",
        "  os.mkdir(f'{name}/MEL')\n",
        "  os.mkdir(f'{name}/NOTMEL')\n",
        "\n",
        "  df = pd.read_csv(csv_path)\n",
        "  images = df['image'].to_list()\n",
        "  MEL = df['MEL'].to_list()\n",
        "\n",
        "  for i,m in zip(images,MEL):\n",
        "    if m == 1:\n",
        "      shutil.copy(f'{images_folder}/{i}.jpg',f'{name}/MEL')\n",
        "    else:\n",
        "      shutil.copy(f'{images_folder}/{i}.jpg',f'{name}/NOTMEL')\n",
        "\n",
        "  notmel = os.listdir(f'{name}/NOTMEL')\n",
        "  random.shuffle(notmel)\n",
        "  while len(os.listdir(f'{name}/NOTMEL')) > len(os.listdir(f'{name}/MEL')):\n",
        "    os.remove(f'{name}/NOTMEL/{notmel.pop()}')"
      ],
      "metadata": {
        "id": "rRmo31oBGFEy"
      },
      "execution_count": 3,
      "outputs": []
    },
    {
      "cell_type": "code",
      "source": [
        "create_folder('train','/content/ISIC2018_Task3_Training_GroundTruth/ISIC2018_Task3_Training_GroundTruth/ISIC2018_Task3_Training_GroundTruth.csv','/content/ISIC2018_Task3_Training_Input/ISIC2018_Task3_Training_Input')\n"
      ],
      "metadata": {
        "id": "9dFUgYUMGzEc"
      },
      "execution_count": 4,
      "outputs": []
    },
    {
      "cell_type": "code",
      "source": [
        "create_folder('val','/content/ISIC2018_Task3_Validation_GroundTruth/ISIC2018_Task3_Validation_GroundTruth/ISIC2018_Task3_Validation_GroundTruth.csv','/content/ISIC2018_Task3_Validation_Input/ISIC2018_Task3_Validation_Input')\n"
      ],
      "metadata": {
        "id": "E-Tb7daIJ97W"
      },
      "execution_count": 7,
      "outputs": []
    },
    {
      "cell_type": "code",
      "source": [
        "from tensorflow.keras.preprocessing import image_dataset_from_directory\n",
        "\n",
        "\n",
        "train_dataset = image_dataset_from_directory(\n",
        "    \"train\",\n",
        "    image_size=(224, 224),\n",
        "    batch_size=32\n",
        ")\n",
        "\n",
        "num_classes = len(train_dataset.class_names)\n",
        "\n",
        "val_dataset = image_dataset_from_directory(\n",
        "    \"val\",\n",
        "    image_size=(224, 224),\n",
        "    batch_size=32\n",
        ")\n"
      ],
      "metadata": {
        "colab": {
          "base_uri": "https://localhost:8080/"
        },
        "id": "jZBVX6c3KNjZ",
        "outputId": "28d541d9-b5d0-4ead-b3d2-4c801667633a"
      },
      "execution_count": 37,
      "outputs": [
        {
          "output_type": "stream",
          "name": "stdout",
          "text": [
            "Found 2226 files belonging to 2 classes.\n",
            "Found 42 files belonging to 2 classes.\n"
          ]
        }
      ]
    },
    {
      "cell_type": "code",
      "source": [
        "from tensorflow.keras.applications.resnet50 import preprocess_input\n",
        "\n",
        "AUTOTUNE = tf.data.AUTOTUNE\n",
        "\n",
        "def preprocess(ds):\n",
        "    return ds.map(lambda x, y: (preprocess_input(x), y), num_parallel_calls=AUTOTUNE)\n",
        "\n",
        "train_dataset = preprocess(train_dataset).prefetch(buffer_size=AUTOTUNE)\n",
        "val_dataset = preprocess(val_dataset).prefetch(buffer_size=AUTOTUNE)\n"
      ],
      "metadata": {
        "id": "8WKFDRIgKg0C"
      },
      "execution_count": 38,
      "outputs": []
    },
    {
      "cell_type": "code",
      "source": [
        "from tensorflow.keras.applications import ResNet50\n",
        "from tensorflow.keras import layers, models\n",
        "\n",
        "base_model = ResNet50(weights='imagenet', include_top=False, input_shape=(224, 224, 3))\n",
        "base_model.trainable = False  # Para fine-tuning posterior\n",
        "\n",
        "model = models.Sequential([\n",
        "    base_model,\n",
        "    layers.GlobalAveragePooling2D(),\n",
        "    layers.Dense(128, activation='relu'),\n",
        "    layers.Dropout(0.3),\n",
        "    layers.Dense(num_classes, activation='softmax' if num_classes > 1 else 'sigmoid')\n",
        "])\n"
      ],
      "metadata": {
        "id": "50kse3SJKlmn"
      },
      "execution_count": 39,
      "outputs": []
    },
    {
      "cell_type": "code",
      "source": [
        "model.compile(\n",
        "    optimizer='adam',\n",
        "    loss='sparse_categorical_crossentropy' if num_classes > 1 else 'binary_crossentropy',\n",
        "    metrics=['accuracy']\n",
        ")\n"
      ],
      "metadata": {
        "id": "rxwe8AQ8LBiN"
      },
      "execution_count": 40,
      "outputs": []
    },
    {
      "cell_type": "code",
      "source": [
        "history = model.fit(\n",
        "    train_dataset,\n",
        "    validation_data=val_dataset,\n",
        "    epochs=10,\n",
        "    callbacks=[\n",
        "        tf.keras.callbacks.ModelCheckpoint(\"best_model.keras\", save_best_only=True),\n",
        "        tf.keras.callbacks.EarlyStopping(patience=3, restore_best_weights=True)\n",
        "    ]\n",
        ")"
      ],
      "metadata": {
        "colab": {
          "base_uri": "https://localhost:8080/"
        },
        "id": "P77l22CjLC6s",
        "outputId": "32483f57-c26a-4119-97fa-771edeb8a4b7"
      },
      "execution_count": 41,
      "outputs": [
        {
          "output_type": "stream",
          "name": "stdout",
          "text": [
            "Epoch 1/10\n",
            "\u001b[1m70/70\u001b[0m \u001b[32m━━━━━━━━━━━━━━━━━━━━\u001b[0m\u001b[37m\u001b[0m \u001b[1m36s\u001b[0m 344ms/step - accuracy: 0.6840 - loss: 0.7436 - val_accuracy: 0.7857 - val_loss: 0.5018\n",
            "Epoch 2/10\n",
            "\u001b[1m70/70\u001b[0m \u001b[32m━━━━━━━━━━━━━━━━━━━━\u001b[0m\u001b[37m\u001b[0m \u001b[1m27s\u001b[0m 200ms/step - accuracy: 0.8016 - loss: 0.4246 - val_accuracy: 0.8095 - val_loss: 0.5024\n",
            "Epoch 3/10\n",
            "\u001b[1m70/70\u001b[0m \u001b[32m━━━━━━━━━━━━━━━━━━━━\u001b[0m\u001b[37m\u001b[0m \u001b[1m26s\u001b[0m 280ms/step - accuracy: 0.8146 - loss: 0.3869 - val_accuracy: 0.8095 - val_loss: 0.4333\n",
            "Epoch 4/10\n",
            "\u001b[1m70/70\u001b[0m \u001b[32m━━━━━━━━━━━━━━━━━━━━\u001b[0m\u001b[37m\u001b[0m \u001b[1m15s\u001b[0m 209ms/step - accuracy: 0.8275 - loss: 0.3674 - val_accuracy: 0.7143 - val_loss: 0.5157\n",
            "Epoch 5/10\n",
            "\u001b[1m70/70\u001b[0m \u001b[32m━━━━━━━━━━━━━━━━━━━━\u001b[0m\u001b[37m\u001b[0m \u001b[1m20s\u001b[0m 203ms/step - accuracy: 0.8393 - loss: 0.3530 - val_accuracy: 0.7857 - val_loss: 0.4335\n",
            "Epoch 6/10\n",
            "\u001b[1m70/70\u001b[0m \u001b[32m━━━━━━━━━━━━━━━━━━━━\u001b[0m\u001b[37m\u001b[0m \u001b[1m21s\u001b[0m 205ms/step - accuracy: 0.8425 - loss: 0.3437 - val_accuracy: 0.6667 - val_loss: 0.5666\n"
          ]
        }
      ]
    },
    {
      "cell_type": "code",
      "source": [
        "base_model.trainable = True\n",
        "model.compile(optimizer=tf.keras.optimizers.Adam(1e-5),\n",
        "              loss='sparse_categorical_crossentropy',\n",
        "              metrics=['accuracy'])\n",
        "\n",
        "model.fit(train_dataset, validation_data=val_dataset, epochs=5)\n"
      ],
      "metadata": {
        "colab": {
          "base_uri": "https://localhost:8080/"
        },
        "id": "-OGP_J0rLI7F",
        "outputId": "67c09fa4-d3de-4eb6-fb05-6afc30956a3c"
      },
      "execution_count": 56,
      "outputs": [
        {
          "output_type": "stream",
          "name": "stdout",
          "text": [
            "Epoch 1/5\n",
            "\u001b[1m70/70\u001b[0m \u001b[32m━━━━━━━━━━━━━━━━━━━━\u001b[0m\u001b[37m\u001b[0m \u001b[1m36s\u001b[0m 322ms/step - accuracy: 0.8302 - loss: 0.3622 - val_accuracy: 0.8095 - val_loss: 0.4355\n",
            "Epoch 2/5\n",
            "\u001b[1m70/70\u001b[0m \u001b[32m━━━━━━━━━━━━━━━━━━━━\u001b[0m\u001b[37m\u001b[0m \u001b[1m14s\u001b[0m 203ms/step - accuracy: 0.8294 - loss: 0.3472 - val_accuracy: 0.8095 - val_loss: 0.4439\n",
            "Epoch 3/5\n",
            "\u001b[1m70/70\u001b[0m \u001b[32m━━━━━━━━━━━━━━━━━━━━\u001b[0m\u001b[37m\u001b[0m \u001b[1m14s\u001b[0m 202ms/step - accuracy: 0.8486 - loss: 0.3289 - val_accuracy: 0.8095 - val_loss: 0.4542\n",
            "Epoch 4/5\n",
            "\u001b[1m70/70\u001b[0m \u001b[32m━━━━━━━━━━━━━━━━━━━━\u001b[0m\u001b[37m\u001b[0m \u001b[1m15s\u001b[0m 213ms/step - accuracy: 0.8419 - loss: 0.3439 - val_accuracy: 0.8095 - val_loss: 0.4628\n",
            "Epoch 5/5\n",
            "\u001b[1m70/70\u001b[0m \u001b[32m━━━━━━━━━━━━━━━━━━━━\u001b[0m\u001b[37m\u001b[0m \u001b[1m20s\u001b[0m 202ms/step - accuracy: 0.8507 - loss: 0.3311 - val_accuracy: 0.7857 - val_loss: 0.4700\n"
          ]
        },
        {
          "output_type": "execute_result",
          "data": {
            "text/plain": [
              "<keras.src.callbacks.history.History at 0x7ec8981f62d0>"
            ]
          },
          "metadata": {},
          "execution_count": 56
        }
      ]
    },
    {
      "cell_type": "code",
      "source": [
        "create_folder('test','/content/ISIC2018_Task3_Test_GroundTruth/ISIC2018_Task3_Test_GroundTruth/ISIC2018_Task3_Test_GroundTruth.csv','/content/ISIC2018_Task3_Test_Input/ISIC2018_Task3_Test_Input')"
      ],
      "metadata": {
        "id": "5X8YJFUJMB-s"
      },
      "execution_count": 17,
      "outputs": []
    },
    {
      "cell_type": "code",
      "source": [
        "test_dataset = image_dataset_from_directory(\n",
        "    \"test\",\n",
        "    image_size=(224, 224),\n",
        "    batch_size=32,\n",
        "    shuffle=False\n",
        ")\n",
        "test_dataset = preprocess(test_dataset).prefetch(buffer_size=AUTOTUNE)\n"
      ],
      "metadata": {
        "colab": {
          "base_uri": "https://localhost:8080/"
        },
        "id": "gYYmFeg1NCGI",
        "outputId": "222a1e9d-ff1e-49ed-c4f5-75b247f29cf8"
      },
      "execution_count": 57,
      "outputs": [
        {
          "output_type": "stream",
          "name": "stdout",
          "text": [
            "Found 342 files belonging to 2 classes.\n"
          ]
        }
      ]
    },
    {
      "cell_type": "code",
      "source": [
        "test_loss, test_accuracy = model.evaluate(test_dataset)\n",
        "\n",
        "# Imprimir las métricas\n",
        "print(f\"Test Loss: {test_loss}\")\n",
        "print(f\"Test Accuracy: {test_accuracy}\")"
      ],
      "metadata": {
        "colab": {
          "base_uri": "https://localhost:8080/"
        },
        "id": "BvJQ_vjCS6Me",
        "outputId": "2a8ade75-c085-46c6-d39a-ac3f2ffeefaa"
      },
      "execution_count": 58,
      "outputs": [
        {
          "output_type": "stream",
          "name": "stdout",
          "text": [
            "\u001b[1m11/11\u001b[0m \u001b[32m━━━━━━━━━━━━━━━━━━━━\u001b[0m\u001b[37m\u001b[0m \u001b[1m4s\u001b[0m 340ms/step - accuracy: 0.8287 - loss: 0.4295\n",
            "Test Loss: 0.4568873941898346\n",
            "Test Accuracy: 0.780701756477356\n"
          ]
        }
      ]
    },
    {
      "cell_type": "code",
      "source": [
        "# Cargar el mejor modelo guardado\n",
        "best_model = tf.keras.models.load_model(\"best_model.keras\")\n",
        "\n",
        "# Evaluar el modelo en el conjunto de prueba\n",
        "test_loss, test_accuracy = best_model.evaluate(test_dataset)\n",
        "\n",
        "# Imprimir las métricas\n",
        "print(f\"Test Loss: {test_loss}\")\n",
        "print(f\"Test Accuracy: {test_accuracy}\")\n"
      ],
      "metadata": {
        "colab": {
          "base_uri": "https://localhost:8080/"
        },
        "id": "Vh9ZcrzlPFSZ",
        "outputId": "bcc8f83a-df4b-47a7-af43-6e4327544d95"
      },
      "execution_count": 51,
      "outputs": [
        {
          "output_type": "stream",
          "name": "stdout",
          "text": [
            "\u001b[1m11/11\u001b[0m \u001b[32m━━━━━━━━━━━━━━━━━━━━\u001b[0m\u001b[37m\u001b[0m \u001b[1m10s\u001b[0m 316ms/step - accuracy: 0.8301 - loss: 0.4037\n",
            "Test Loss: 0.45910483598709106\n",
            "Test Accuracy: 0.7660818696022034\n"
          ]
        }
      ]
    },
    {
      "cell_type": "code",
      "source": [
        "from sklearn.metrics import f1_score, confusion_matrix, classification_report\n",
        "\n",
        "\n",
        "predictions = best_model.predict(test_dataset)\n",
        "predictions = tf.argmax(predictions, axis=1)\n",
        "\n",
        "true_labels = []\n",
        "for image, label in test_dataset:\n",
        "    true_labels.extend(label.numpy())\n",
        "\n",
        "conf_matrix = confusion_matrix(true_labels, predictions)\n",
        "print(\"Confusion Matrix:\")\n",
        "print(conf_matrix)\n",
        "\n",
        "class_report = classification_report(true_labels, predictions)\n",
        "print(\"Classification Report:\")\n",
        "print(class_report)\n"
      ],
      "metadata": {
        "colab": {
          "base_uri": "https://localhost:8080/"
        },
        "id": "c59MjF9eNRe0",
        "outputId": "2e5d5da3-f1c0-489b-a7c6-4dd6b2e9dd55"
      },
      "execution_count": 52,
      "outputs": [
        {
          "output_type": "stream",
          "name": "stdout",
          "text": [
            "\u001b[1m11/11\u001b[0m \u001b[32m━━━━━━━━━━━━━━━━━━━━\u001b[0m\u001b[37m\u001b[0m \u001b[1m11s\u001b[0m 546ms/step\n",
            "Confusion Matrix:\n",
            "[[150  21]\n",
            " [ 59 112]]\n",
            "Classification Report:\n",
            "              precision    recall  f1-score   support\n",
            "\n",
            "           0       0.72      0.88      0.79       171\n",
            "           1       0.84      0.65      0.74       171\n",
            "\n",
            "    accuracy                           0.77       342\n",
            "   macro avg       0.78      0.77      0.76       342\n",
            "weighted avg       0.78      0.77      0.76       342\n",
            "\n"
          ]
        }
      ]
    },
    {
      "cell_type": "code",
      "source": [
        "from sklearn.metrics import f1_score, confusion_matrix, classification_report\n",
        "\n",
        "\n",
        "predictions = model.predict(test_dataset)\n",
        "predictions = tf.argmax(predictions, axis=1)\n",
        "\n",
        "true_labels = []\n",
        "for image, label in test_dataset:\n",
        "    true_labels.extend(label.numpy())\n",
        "\n",
        "conf_matrix = confusion_matrix(true_labels, predictions)\n",
        "print(\"Confusion Matrix:\")\n",
        "print(conf_matrix)\n",
        "\n",
        "class_report = classification_report(true_labels, predictions)\n",
        "print(\"Classification Report:\")\n",
        "print(class_report)\n"
      ],
      "metadata": {
        "colab": {
          "base_uri": "https://localhost:8080/"
        },
        "id": "o6XOpuCoS2yd",
        "outputId": "54b28559-ee7e-4a5d-b045-06a5928ce4b5"
      },
      "execution_count": 54,
      "outputs": [
        {
          "output_type": "stream",
          "name": "stdout",
          "text": [
            "\u001b[1m11/11\u001b[0m \u001b[32m━━━━━━━━━━━━━━━━━━━━\u001b[0m\u001b[37m\u001b[0m \u001b[1m4s\u001b[0m 315ms/step\n",
            "Confusion Matrix:\n",
            "[[143  28]\n",
            " [ 38 133]]\n",
            "Classification Report:\n",
            "              precision    recall  f1-score   support\n",
            "\n",
            "           0       0.79      0.84      0.81       171\n",
            "           1       0.83      0.78      0.80       171\n",
            "\n",
            "    accuracy                           0.81       342\n",
            "   macro avg       0.81      0.81      0.81       342\n",
            "weighted avg       0.81      0.81      0.81       342\n",
            "\n"
          ]
        }
      ]
    },
    {
      "cell_type": "code",
      "source": [
        "model.save(\"classifier.keras\")"
      ],
      "metadata": {
        "id": "Fr3P1zZZTEBQ"
      },
      "execution_count": 55,
      "outputs": []
    }
  ]
}